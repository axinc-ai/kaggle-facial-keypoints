{
 "cells": [
  {
   "cell_type": "markdown",
   "metadata": {},
   "source": [
    "# This notebook is for creting augmented dataset using imgaug for kaggle facial feature points detection "
   ]
  },
  {
   "cell_type": "code",
   "execution_count": 1,
   "metadata": {},
   "outputs": [],
   "source": [
    "import numpy as np\n",
    "import pandas as pd\n",
    "import matplotlib.pyplot as plt\n",
    "%matplotlib inline\n",
    "import seaborn as sns\n",
    "\n",
    "import imgaug as ia\n",
    "\n",
    "from tqdm import tqdm"
   ]
  },
  {
   "cell_type": "markdown",
   "metadata": {},
   "source": [
    "loading original training dataset"
   ]
  },
  {
   "cell_type": "code",
   "execution_count": 2,
   "metadata": {},
   "outputs": [],
   "source": [
    "org_training_file = \"data/resized226.csv\"\n",
    "image_size = 226\n",
    "\n",
    "df = pd.read_csv(org_training_file)\n",
    "df['Image'] = df['Image'].apply(lambda im:np.fromstring(im, sep=' '))"
   ]
  },
  {
   "cell_type": "code",
   "execution_count": 3,
   "metadata": {},
   "outputs": [
    {
     "name": "stdout",
     "output_type": "stream",
     "text": [
      "<class 'pandas.core.frame.DataFrame'>\n",
      "RangeIndex: 2140 entries, 0 to 2139\n",
      "Data columns (total 31 columns):\n",
      "left_eye_center_x            2140 non-null float64\n",
      "left_eye_center_y            2140 non-null float64\n",
      "right_eye_center_x           2140 non-null float64\n",
      "right_eye_center_y           2140 non-null float64\n",
      "left_eye_inner_corner_x      2140 non-null float64\n",
      "left_eye_inner_corner_y      2140 non-null float64\n",
      "left_eye_outer_corner_x      2140 non-null float64\n",
      "left_eye_outer_corner_y      2140 non-null float64\n",
      "right_eye_inner_corner_x     2140 non-null float64\n",
      "right_eye_inner_corner_y     2140 non-null float64\n",
      "right_eye_outer_corner_x     2140 non-null float64\n",
      "right_eye_outer_corner_y     2140 non-null float64\n",
      "left_eyebrow_inner_end_x     2140 non-null float64\n",
      "left_eyebrow_inner_end_y     2140 non-null float64\n",
      "left_eyebrow_outer_end_x     2140 non-null float64\n",
      "left_eyebrow_outer_end_y     2140 non-null float64\n",
      "right_eyebrow_inner_end_x    2140 non-null float64\n",
      "right_eyebrow_inner_end_y    2140 non-null float64\n",
      "right_eyebrow_outer_end_x    2140 non-null float64\n",
      "right_eyebrow_outer_end_y    2140 non-null float64\n",
      "nose_tip_x                   2140 non-null float64\n",
      "nose_tip_y                   2140 non-null float64\n",
      "mouth_left_corner_x          2140 non-null float64\n",
      "mouth_left_corner_y          2140 non-null float64\n",
      "mouth_right_corner_x         2140 non-null float64\n",
      "mouth_right_corner_y         2140 non-null float64\n",
      "mouth_center_top_lip_x       2140 non-null float64\n",
      "mouth_center_top_lip_y       2140 non-null float64\n",
      "mouth_center_bottom_lip_x    2140 non-null float64\n",
      "mouth_center_bottom_lip_y    2140 non-null float64\n",
      "Image                        2140 non-null object\n",
      "dtypes: float64(30), object(1)\n",
      "memory usage: 518.4+ KB\n"
     ]
    }
   ],
   "source": [
    "df.info()"
   ]
  },
  {
   "cell_type": "code",
   "execution_count": 4,
   "metadata": {},
   "outputs": [
    {
     "data": {
      "text/plain": [
       "left_eye_center_x            2140\n",
       "left_eye_center_y            2140\n",
       "right_eye_center_x           2140\n",
       "right_eye_center_y           2140\n",
       "left_eye_inner_corner_x      2140\n",
       "left_eye_inner_corner_y      2140\n",
       "left_eye_outer_corner_x      2140\n",
       "left_eye_outer_corner_y      2140\n",
       "right_eye_inner_corner_x     2140\n",
       "right_eye_inner_corner_y     2140\n",
       "right_eye_outer_corner_x     2140\n",
       "right_eye_outer_corner_y     2140\n",
       "left_eyebrow_inner_end_x     2140\n",
       "left_eyebrow_inner_end_y     2140\n",
       "left_eyebrow_outer_end_x     2140\n",
       "left_eyebrow_outer_end_y     2140\n",
       "right_eyebrow_inner_end_x    2140\n",
       "right_eyebrow_inner_end_y    2140\n",
       "right_eyebrow_outer_end_x    2140\n",
       "right_eyebrow_outer_end_y    2140\n",
       "nose_tip_x                   2140\n",
       "nose_tip_y                   2140\n",
       "mouth_left_corner_x          2140\n",
       "mouth_left_corner_y          2140\n",
       "mouth_right_corner_x         2140\n",
       "mouth_right_corner_y         2140\n",
       "mouth_center_top_lip_x       2140\n",
       "mouth_center_top_lip_y       2140\n",
       "mouth_center_bottom_lip_x    2140\n",
       "mouth_center_bottom_lip_y    2140\n",
       "Image                        2140\n",
       "dtype: int64"
      ]
     },
     "execution_count": 4,
     "metadata": {},
     "output_type": "execute_result"
    }
   ],
   "source": [
    "df.count()"
   ]
  },
  {
   "cell_type": "code",
   "execution_count": 5,
   "metadata": {},
   "outputs": [
    {
     "data": {
      "text/plain": [
       "left_eye_center_x            2140\n",
       "left_eye_center_y            2140\n",
       "right_eye_center_x           2140\n",
       "right_eye_center_y           2140\n",
       "left_eye_inner_corner_x      2140\n",
       "left_eye_inner_corner_y      2140\n",
       "left_eye_outer_corner_x      2140\n",
       "left_eye_outer_corner_y      2140\n",
       "right_eye_inner_corner_x     2140\n",
       "right_eye_inner_corner_y     2140\n",
       "right_eye_outer_corner_x     2140\n",
       "right_eye_outer_corner_y     2140\n",
       "left_eyebrow_inner_end_x     2140\n",
       "left_eyebrow_inner_end_y     2140\n",
       "left_eyebrow_outer_end_x     2140\n",
       "left_eyebrow_outer_end_y     2140\n",
       "right_eyebrow_inner_end_x    2140\n",
       "right_eyebrow_inner_end_y    2140\n",
       "right_eyebrow_outer_end_x    2140\n",
       "right_eyebrow_outer_end_y    2140\n",
       "nose_tip_x                   2140\n",
       "nose_tip_y                   2140\n",
       "mouth_left_corner_x          2140\n",
       "mouth_left_corner_y          2140\n",
       "mouth_right_corner_x         2140\n",
       "mouth_right_corner_y         2140\n",
       "mouth_center_top_lip_x       2140\n",
       "mouth_center_top_lip_y       2140\n",
       "mouth_center_bottom_lip_x    2140\n",
       "mouth_center_bottom_lip_y    2140\n",
       "Image                        2140\n",
       "dtype: int64"
      ]
     },
     "execution_count": 5,
     "metadata": {},
     "output_type": "execute_result"
    }
   ],
   "source": [
    "df = df.dropna()\n",
    "df.count()"
   ]
  },
  {
   "cell_type": "markdown",
   "metadata": {},
   "source": [
    "X: Image  \n",
    "y: feature points (teacher information)"
   ]
  },
  {
   "cell_type": "code",
   "execution_count": 6,
   "metadata": {},
   "outputs": [],
   "source": [
    "X = np.vstack(df['Image'].values)\n",
    "X = X.astype(np.float32)\n",
    "X = X.reshape(X.shape[0], image_size, image_size)\n",
    "\n",
    "y = df[df.columns[:-1]].values"
   ]
  },
  {
   "cell_type": "code",
   "execution_count": 7,
   "metadata": {},
   "outputs": [],
   "source": [
    "from imgaug.augmentables.kps import Keypoint, KeypointsOnImage\n",
    "\n",
    "# get keypoints\n",
    "def get_kps(y_data):\n",
    "    \"\"\"\n",
    "    param: y_data: annotations set\n",
    "    \"\"\"\n",
    "    kps = []\n",
    "    for i in range(len(y_data) // 2):\n",
    "        kps.append(Keypoint(y_data[2 * i], y_data[2 * i + 1]))\n",
    "    return kps\n",
    "\n",
    "\n",
    "# convert an array to keypoints\n",
    "def arr_to_kps(annotations):\n",
    "    kpss = []\n",
    "    for anno in annotations:\n",
    "        kpss.append(get_kps(anno))\n",
    "    return kpss\n",
    "\n",
    "# gray scale image to rbg image\n",
    "def gray_to_rgb(imgs):\n",
    "    \"\"\"\n",
    "    param: imgs: (batch, height, width)\n",
    "    \"\"\"\n",
    "    rgb_imgs = np.zeros((imgs.shape[0], imgs.shape[1], imgs.shape[2], 3))\n",
    "    for i in range(3):\n",
    "        rgb_imgs[:, :, :, i] = imgs\n",
    "    return rgb_imgs.astype('uint8')\n",
    "        \n",
    "# test\n",
    "# kps = get_kps(y[0])\n",
    "# kpsoi = KeypointsOnImage(kps, shape=X[0].shape)\n",
    "# X_ = gray_to_rgb(X)\n",
    "# ia.imshow(kpsoi.draw_on_image(X_[0], size=2))"
   ]
  },
  {
   "cell_type": "code",
   "execution_count": 20,
   "metadata": {},
   "outputs": [],
   "source": [
    "X = gray_to_rgb(X)  # original image\n",
    "y = arr_to_kps(y)  # keypoints"
   ]
  },
  {
   "cell_type": "markdown",
   "metadata": {},
   "source": [
    "## Augmentation function"
   ]
  },
  {
   "cell_type": "markdown",
   "metadata": {},
   "source": [
    "Now to the actual augmentation. We want to apply an affine transformation, which will alter both the image and the keypoints. We choose a bit of translation and rotation as our transoformation. Additionally, we add a bit of color jittering to the mix. That color jitter is only going to affect the image, not the keypoints."
   ]
  },
  {
   "cell_type": "code",
   "execution_count": 19,
   "metadata": {},
   "outputs": [],
   "source": [
    "import imgaug.augmenters as iaa\n",
    "ia.seed(3)\n",
    "\n",
    "seq = iaa.Sequential([\n",
    "    iaa.Affine(translate_percent={\"x\": (-0.05, 0.05), \"y\": (-0.15, 0.15)}),\n",
    "    iaa.Affine(scale=(0.8, 1.0), rotate=(-30, 30), shear=(-15, 15)),\n",
    "    iaa.PiecewiseAffine(scale=(0.01, 0.05))\n",
    "    # iaa.Affine(translate_px={\"x\":(10, 30)}, rotate=(-10, 10)),\n",
    "    # iaa.AddToHueAndSaturation((-50, 50))  #color jitter, only affects the image\n",
    "])"
   ]
  },
  {
   "cell_type": "code",
   "execution_count": 29,
   "metadata": {},
   "outputs": [
    {
     "name": "stderr",
     "output_type": "stream",
     "text": [
      "100%|██████████| 2140/2140 [03:24<00:00, 10.44it/s]\n",
      "100%|██████████| 2140/2140 [03:25<00:00, 10.41it/s]\n",
      "100%|██████████| 2140/2140 [03:26<00:00, 10.39it/s]\n",
      "100%|██████████| 2140/2140 [03:24<00:00, 10.45it/s]\n",
      "100%|██████████| 2140/2140 [03:24<00:00, 10.49it/s]\n"
     ]
    }
   ],
   "source": [
    "aug_X = []\n",
    "aug_y = []\n",
    "\n",
    "AGM_RPT = 5  # 1 original image to AGM_RPT images\n",
    "\n",
    "# It may takes few minutes\n",
    "for j in range(AGM_RPT):\n",
    "    for i in tqdm(range(X.shape[0])):\n",
    "        aug_img, aug_kpsoi = seq(image=X[i], keypoints=y[i])\n",
    "        aug_X.append(aug_img)\n",
    "        aug_y.append(aug_kpsoi)\n",
    "\n",
    "    \n",
    "\n",
    "# img = ia.imresize_single_image(img.astype('uint8'), (96, 96))\n",
    "# img_aug, kpsoi_aug = seq(image=img, keypoints=kpsoi)"
   ]
  },
  {
   "cell_type": "code",
   "execution_count": 30,
   "metadata": {},
   "outputs": [
    {
     "data": {
      "image/png": "[encoded data removed]",
      "text/plain": [
       "<Figure size 576x226 with 1 Axes>"
      ]
     },
     "metadata": {
      "needs_background": "light"
     },
     "output_type": "display_data"
    }
   ],
   "source": [
    "# check how transoformation worked !\n",
    "id = 10\n",
    "\n",
    "ia.imshow(\n",
    "    np.hstack([\n",
    "        KeypointsOnImage(y[id], shape=X[id].shape).draw_on_image(X[id], size=2),\n",
    "        KeypointsOnImage(aug_y[id], shape=aug_X[id].shape).draw_on_image(aug_X[id], size=2)\n",
    "    ])\n",
    ")"
   ]
  },
  {
   "cell_type": "code",
   "execution_count": 31,
   "metadata": {},
   "outputs": [
    {
     "name": "stdout",
     "output_type": "stream",
     "text": [
      "(10700, 51076)\n"
     ]
    }
   ],
   "source": [
    "## transformed images to save csv file\n",
    "# new_X = []\n",
    "# for img in aug_X:\n",
    "#     new_X.append(img[:, :, 0])\n",
    "# new_X = np.array(new_X).reshape(np.array(new_X).shape[0], -1)\n",
    "# print(new_X.shape)\n",
    "\n",
    "new_X = np.array(aug_X)[:, :, :, 0].reshape(len(aug_X), -1)\n",
    "print(new_X.shape)"
   ]
  },
  {
   "cell_type": "code",
   "execution_count": 32,
   "metadata": {},
   "outputs": [
    {
     "data": {
      "text/plain": [
       "(10700, 30)"
      ]
     },
     "execution_count": 32,
     "metadata": {},
     "output_type": "execute_result"
    }
   ],
   "source": [
    "# transformed annotations to save csv file\n",
    "new_y = []\n",
    "for anno in aug_y:\n",
    "    new_y.append(KeypointsOnImage(anno, shape=X[0].shape).to_xy_array().reshape(-1))\n",
    "new_y = np.array(new_y)\n",
    "new_y.shape"
   ]
  },
  {
   "cell_type": "code",
   "execution_count": 33,
   "metadata": {},
   "outputs": [],
   "source": [
    "columns = []\n",
    "for col in df.columns:\n",
    "    columns.append(col)"
   ]
  },
  {
   "cell_type": "code",
   "execution_count": 34,
   "metadata": {},
   "outputs": [],
   "source": [
    "new_y_df = pd.DataFrame(data=new_y.astype('float64'), columns=columns[:-1])"
   ]
  },
  {
   "cell_type": "code",
   "execution_count": 36,
   "metadata": {},
   "outputs": [
    {
     "name": "stderr",
     "output_type": "stream",
     "text": [
      "100%|██████████| 10700/10700 [04:13<00:00, 42.26it/s]\n"
     ]
    }
   ],
   "source": [
    "new_X_df = pd.DataFrame([], columns=['Image'], index=range(len(new_X)))\n",
    "\n",
    "for i in tqdm(range(len(new_X))):\n",
    "    str_ = \"\"\n",
    "    for j in range(new_X.shape[1]):\n",
    "        str_ += \"{} \".format(new_X[i, j])\n",
    "    new_X_df.iloc[i, 0] = str_\n",
    "    # new_X_df.iloc[i, 0] = np.array2string(new_X[i], separator=' ').replace(\"[\", \"\").replace(\"]\", \"\")"
   ]
  },
  {
   "cell_type": "code",
   "execution_count": 25,
   "metadata": {},
   "outputs": [
    {
     "data": {
      "text/html": [
       "<div>\n",
       "<style scoped>\n",
       "    .dataframe tbody tr th:only-of-type {\n",
       "        vertical-align: middle;\n",
       "    }\n",
       "\n",
       "    .dataframe tbody tr th {\n",
       "        vertical-align: top;\n",
       "    }\n",
       "\n",
       "    .dataframe thead th {\n",
       "        text-align: right;\n",
       "    }\n",
       "</style>\n",
       "<table border=\"1\" class=\"dataframe\">\n",
       "  <thead>\n",
       "    <tr style=\"text-align: right;\">\n",
       "      <th></th>\n",
       "      <th>Image</th>\n",
       "    </tr>\n",
       "  </thead>\n",
       "  <tbody>\n",
       "    <tr>\n",
       "      <td>0</td>\n",
       "      <td>0 0 0 0 0 0 0 0 0 0 0 0 0 0 0 0 0 0 0 0 0 0 0 ...</td>\n",
       "    </tr>\n",
       "    <tr>\n",
       "      <td>1</td>\n",
       "      <td>0 0 0 0 0 0 0 0 0 0 0 0 0 0 0 0 0 0 0 0 0 0 0 ...</td>\n",
       "    </tr>\n",
       "    <tr>\n",
       "      <td>2</td>\n",
       "      <td>0 0 0 0 0 0 0 0 0 0 0 0 0 0 0 0 0 0 0 0 0 0 0 ...</td>\n",
       "    </tr>\n",
       "    <tr>\n",
       "      <td>3</td>\n",
       "      <td>0 0 0 0 0 0 0 0 0 0 0 0 0 0 0 0 0 0 0 0 0 0 0 ...</td>\n",
       "    </tr>\n",
       "    <tr>\n",
       "      <td>4</td>\n",
       "      <td>0 0 0 0 0 0 0 0 0 0 0 0 0 0 0 0 0 0 0 0 0 0 0 ...</td>\n",
       "    </tr>\n",
       "  </tbody>\n",
       "</table>\n",
       "</div>"
      ],
      "text/plain": [
       "                                               Image\n",
       "0  0 0 0 0 0 0 0 0 0 0 0 0 0 0 0 0 0 0 0 0 0 0 0 ...\n",
       "1  0 0 0 0 0 0 0 0 0 0 0 0 0 0 0 0 0 0 0 0 0 0 0 ...\n",
       "2  0 0 0 0 0 0 0 0 0 0 0 0 0 0 0 0 0 0 0 0 0 0 0 ...\n",
       "3  0 0 0 0 0 0 0 0 0 0 0 0 0 0 0 0 0 0 0 0 0 0 0 ...\n",
       "4  0 0 0 0 0 0 0 0 0 0 0 0 0 0 0 0 0 0 0 0 0 0 0 ..."
      ]
     },
     "execution_count": 25,
     "metadata": {},
     "output_type": "execute_result"
    }
   ],
   "source": [
    "# np.fromstring(np.array2string(new_X[0], separator=' ').replace(\"[\", \"\").replace(\"]\", \"\"), sep=' ')\n",
    "new_X_df.head()"
   ]
  },
  {
   "cell_type": "code",
   "execution_count": 26,
   "metadata": {},
   "outputs": [],
   "source": [
    "y_save_filename = \"data/rotate_30.csv\"\n",
    "\n",
    "new_df = pd.concat([new_y_df, new_X_df], axis=1)\n",
    "new_df.to_csv(y_save_filename, index=False)"
   ]
  },
  {
   "cell_type": "code",
   "execution_count": 27,
   "metadata": {},
   "outputs": [
    {
     "data": {
      "text/html": [
       "<div>\n",
       "<style scoped>\n",
       "    .dataframe tbody tr th:only-of-type {\n",
       "        vertical-align: middle;\n",
       "    }\n",
       "\n",
       "    .dataframe tbody tr th {\n",
       "        vertical-align: top;\n",
       "    }\n",
       "\n",
       "    .dataframe thead th {\n",
       "        text-align: right;\n",
       "    }\n",
       "</style>\n",
       "<table border=\"1\" class=\"dataframe\">\n",
       "  <thead>\n",
       "    <tr style=\"text-align: right;\">\n",
       "      <th></th>\n",
       "      <th>left_eye_center_x</th>\n",
       "      <th>left_eye_center_y</th>\n",
       "      <th>right_eye_center_x</th>\n",
       "      <th>right_eye_center_y</th>\n",
       "      <th>left_eye_inner_corner_x</th>\n",
       "      <th>left_eye_inner_corner_y</th>\n",
       "      <th>left_eye_outer_corner_x</th>\n",
       "      <th>left_eye_outer_corner_y</th>\n",
       "      <th>right_eye_inner_corner_x</th>\n",
       "      <th>right_eye_inner_corner_y</th>\n",
       "      <th>...</th>\n",
       "      <th>nose_tip_y</th>\n",
       "      <th>mouth_left_corner_x</th>\n",
       "      <th>mouth_left_corner_y</th>\n",
       "      <th>mouth_right_corner_x</th>\n",
       "      <th>mouth_right_corner_y</th>\n",
       "      <th>mouth_center_top_lip_x</th>\n",
       "      <th>mouth_center_top_lip_y</th>\n",
       "      <th>mouth_center_bottom_lip_x</th>\n",
       "      <th>mouth_center_bottom_lip_y</th>\n",
       "      <th>Image</th>\n",
       "    </tr>\n",
       "  </thead>\n",
       "  <tbody>\n",
       "    <tr>\n",
       "      <td>0</td>\n",
       "      <td>147.0</td>\n",
       "      <td>74.0</td>\n",
       "      <td>68.0</td>\n",
       "      <td>102.0</td>\n",
       "      <td>133.0</td>\n",
       "      <td>82.0</td>\n",
       "      <td>162.0</td>\n",
       "      <td>69.0</td>\n",
       "      <td>81.0</td>\n",
       "      <td>97.0</td>\n",
       "      <td>...</td>\n",
       "      <td>140.0</td>\n",
       "      <td>155.0</td>\n",
       "      <td>175.0</td>\n",
       "      <td>89.0</td>\n",
       "      <td>200.0</td>\n",
       "      <td>114.0</td>\n",
       "      <td>177.0</td>\n",
       "      <td>122.0</td>\n",
       "      <td>202.0</td>\n",
       "      <td>0 0 0 0 0 0 0 0 0 0 0 0 0 0 0 0 0 0 0 0 0 0 0 ...</td>\n",
       "    </tr>\n",
       "    <tr>\n",
       "      <td>1</td>\n",
       "      <td>159.0</td>\n",
       "      <td>102.0</td>\n",
       "      <td>85.0</td>\n",
       "      <td>80.0</td>\n",
       "      <td>149.0</td>\n",
       "      <td>101.0</td>\n",
       "      <td>168.0</td>\n",
       "      <td>106.0</td>\n",
       "      <td>98.0</td>\n",
       "      <td>86.0</td>\n",
       "      <td>...</td>\n",
       "      <td>133.0</td>\n",
       "      <td>115.0</td>\n",
       "      <td>173.0</td>\n",
       "      <td>69.0</td>\n",
       "      <td>164.0</td>\n",
       "      <td>96.0</td>\n",
       "      <td>159.0</td>\n",
       "      <td>85.0</td>\n",
       "      <td>185.0</td>\n",
       "      <td>0 0 0 0 0 0 0 0 0 0 0 0 0 0 0 0 0 0 0 0 0 0 0 ...</td>\n",
       "    </tr>\n",
       "    <tr>\n",
       "      <td>2</td>\n",
       "      <td>134.0</td>\n",
       "      <td>79.0</td>\n",
       "      <td>78.0</td>\n",
       "      <td>95.0</td>\n",
       "      <td>125.0</td>\n",
       "      <td>84.0</td>\n",
       "      <td>145.0</td>\n",
       "      <td>79.0</td>\n",
       "      <td>90.0</td>\n",
       "      <td>94.0</td>\n",
       "      <td>...</td>\n",
       "      <td>122.0</td>\n",
       "      <td>158.0</td>\n",
       "      <td>140.0</td>\n",
       "      <td>110.0</td>\n",
       "      <td>162.0</td>\n",
       "      <td>133.0</td>\n",
       "      <td>146.0</td>\n",
       "      <td>139.0</td>\n",
       "      <td>160.0</td>\n",
       "      <td>0 0 0 0 0 0 0 0 0 0 0 0 0 0 0 0 0 0 0 0 0 0 0 ...</td>\n",
       "    </tr>\n",
       "    <tr>\n",
       "      <td>3</td>\n",
       "      <td>146.0</td>\n",
       "      <td>93.0</td>\n",
       "      <td>74.0</td>\n",
       "      <td>95.0</td>\n",
       "      <td>136.0</td>\n",
       "      <td>97.0</td>\n",
       "      <td>159.0</td>\n",
       "      <td>95.0</td>\n",
       "      <td>87.0</td>\n",
       "      <td>98.0</td>\n",
       "      <td>...</td>\n",
       "      <td>126.0</td>\n",
       "      <td>154.0</td>\n",
       "      <td>160.0</td>\n",
       "      <td>100.0</td>\n",
       "      <td>165.0</td>\n",
       "      <td>123.0</td>\n",
       "      <td>156.0</td>\n",
       "      <td>128.0</td>\n",
       "      <td>172.0</td>\n",
       "      <td>0 0 0 0 0 0 0 0 0 0 0 0 0 0 0 0 0 0 0 0 0 0 0 ...</td>\n",
       "    </tr>\n",
       "    <tr>\n",
       "      <td>4</td>\n",
       "      <td>156.0</td>\n",
       "      <td>117.0</td>\n",
       "      <td>104.0</td>\n",
       "      <td>85.0</td>\n",
       "      <td>144.0</td>\n",
       "      <td>112.0</td>\n",
       "      <td>164.0</td>\n",
       "      <td>121.0</td>\n",
       "      <td>110.0</td>\n",
       "      <td>93.0</td>\n",
       "      <td>...</td>\n",
       "      <td>134.0</td>\n",
       "      <td>101.0</td>\n",
       "      <td>170.0</td>\n",
       "      <td>47.0</td>\n",
       "      <td>141.0</td>\n",
       "      <td>75.0</td>\n",
       "      <td>148.0</td>\n",
       "      <td>63.0</td>\n",
       "      <td>174.0</td>\n",
       "      <td>0 0 0 0 0 0 0 0 0 0 0 0 0 0 0 0 0 0 0 0 0 0 0 ...</td>\n",
       "    </tr>\n",
       "  </tbody>\n",
       "</table>\n",
       "<p>5 rows × 31 columns</p>\n",
       "</div>"
      ],
      "text/plain": [
       "   left_eye_center_x  left_eye_center_y  right_eye_center_x  \\\n",
       "0              147.0               74.0                68.0   \n",
       "1              159.0              102.0                85.0   \n",
       "2              134.0               79.0                78.0   \n",
       "3              146.0               93.0                74.0   \n",
       "4              156.0              117.0               104.0   \n",
       "\n",
       "   right_eye_center_y  left_eye_inner_corner_x  left_eye_inner_corner_y  \\\n",
       "0               102.0                    133.0                     82.0   \n",
       "1                80.0                    149.0                    101.0   \n",
       "2                95.0                    125.0                     84.0   \n",
       "3                95.0                    136.0                     97.0   \n",
       "4                85.0                    144.0                    112.0   \n",
       "\n",
       "   left_eye_outer_corner_x  left_eye_outer_corner_y  right_eye_inner_corner_x  \\\n",
       "0                    162.0                     69.0                      81.0   \n",
       "1                    168.0                    106.0                      98.0   \n",
       "2                    145.0                     79.0                      90.0   \n",
       "3                    159.0                     95.0                      87.0   \n",
       "4                    164.0                    121.0                     110.0   \n",
       "\n",
       "   right_eye_inner_corner_y  ...  nose_tip_y  mouth_left_corner_x  \\\n",
       "0                      97.0  ...       140.0                155.0   \n",
       "1                      86.0  ...       133.0                115.0   \n",
       "2                      94.0  ...       122.0                158.0   \n",
       "3                      98.0  ...       126.0                154.0   \n",
       "4                      93.0  ...       134.0                101.0   \n",
       "\n",
       "   mouth_left_corner_y  mouth_right_corner_x  mouth_right_corner_y  \\\n",
       "0                175.0                  89.0                 200.0   \n",
       "1                173.0                  69.0                 164.0   \n",
       "2                140.0                 110.0                 162.0   \n",
       "3                160.0                 100.0                 165.0   \n",
       "4                170.0                  47.0                 141.0   \n",
       "\n",
       "   mouth_center_top_lip_x  mouth_center_top_lip_y  mouth_center_bottom_lip_x  \\\n",
       "0                   114.0                   177.0                      122.0   \n",
       "1                    96.0                   159.0                       85.0   \n",
       "2                   133.0                   146.0                      139.0   \n",
       "3                   123.0                   156.0                      128.0   \n",
       "4                    75.0                   148.0                       63.0   \n",
       "\n",
       "   mouth_center_bottom_lip_y  \\\n",
       "0                      202.0   \n",
       "1                      185.0   \n",
       "2                      160.0   \n",
       "3                      172.0   \n",
       "4                      174.0   \n",
       "\n",
       "                                               Image  \n",
       "0  0 0 0 0 0 0 0 0 0 0 0 0 0 0 0 0 0 0 0 0 0 0 0 ...  \n",
       "1  0 0 0 0 0 0 0 0 0 0 0 0 0 0 0 0 0 0 0 0 0 0 0 ...  \n",
       "2  0 0 0 0 0 0 0 0 0 0 0 0 0 0 0 0 0 0 0 0 0 0 0 ...  \n",
       "3  0 0 0 0 0 0 0 0 0 0 0 0 0 0 0 0 0 0 0 0 0 0 0 ...  \n",
       "4  0 0 0 0 0 0 0 0 0 0 0 0 0 0 0 0 0 0 0 0 0 0 0 ...  \n",
       "\n",
       "[5 rows x 31 columns]"
      ]
     },
     "execution_count": 27,
     "metadata": {},
     "output_type": "execute_result"
    }
   ],
   "source": [
    "new_df.head()"
   ]
  },
  {
   "cell_type": "markdown",
   "metadata": {},
   "source": [
    "## Resize for imagenet  (only use once)"
   ]
  },
  {
   "cell_type": "code",
   "execution_count": 9,
   "metadata": {},
   "outputs": [],
   "source": [
    "from imgaug import augmenters as iaa\n",
    "\n",
    "seq = iaa.Sequential([\n",
    "    iaa.Resize((226, 226)),\n",
    "    iaa.Affine(rotate=(-30, 30))\n",
    "])"
   ]
  },
  {
   "cell_type": "code",
   "execution_count": 10,
   "metadata": {},
   "outputs": [],
   "source": [
    "X = gray_to_rgb(X)\n",
    "y = arr_to_kps(y)\n",
    "aug_X = []\n",
    "aug_y = []\n",
    "for i in range(X.shape[0]):\n",
    "    aug_img, aug_kpsoi = seq(image=X[i], keypoints=y[i])\n",
    "    aug_X.append(aug_img)\n",
    "    aug_y.append(aug_kpsoi)"
   ]
  },
  {
   "cell_type": "code",
   "execution_count": 11,
   "metadata": {},
   "outputs": [
    {
     "data": {
      "image/png": "[encoded data removed]",
      "text/plain": [
       "<Figure size 576x96 with 1 Axes>"
      ]
     },
     "metadata": {
      "needs_background": "light"
     },
     "output_type": "display_data"
    },
    {
     "data": {
      "image/png": "[encoded data removed]",
      "text/plain": [
       "<Figure size 576x226 with 1 Axes>"
      ]
     },
     "metadata": {
      "needs_background": "light"
     },
     "output_type": "display_data"
    }
   ],
   "source": [
    "ia.imshow(KeypointsOnImage(y[0], shape=X[0].shape).draw_on_image(X[0], size=2))\n",
    "ia.imshow(KeypointsOnImage(aug_y[0], shape=aug_X[0].shape).draw_on_image(aug_X[0], size=2))\n"
   ]
  },
  {
   "cell_type": "code",
   "execution_count": 12,
   "metadata": {},
   "outputs": [
    {
     "name": "stdout",
     "output_type": "stream",
     "text": [
      "(226, 226, 3)\n",
      "(2140, 51076)\n"
     ]
    }
   ],
   "source": [
    "new_X = []\n",
    "for img in aug_X:\n",
    "    new_X.append(img[:, :, 0])\n",
    "new_X = np.array(new_X).reshape(np.array(new_X).shape[0], -1)\n",
    "print(aug_X[0].shape)\n",
    "print(new_X.shape)"
   ]
  },
  {
   "cell_type": "code",
   "execution_count": 13,
   "metadata": {},
   "outputs": [
    {
     "data": {
      "text/plain": [
       "(2140, 30)"
      ]
     },
     "execution_count": 13,
     "metadata": {},
     "output_type": "execute_result"
    }
   ],
   "source": [
    "# transformed annotations to save csv file\n",
    "new_y = []\n",
    "for anno in aug_y:\n",
    "    new_y.append(KeypointsOnImage(anno, shape=X[0].shape).to_xy_array().reshape(-1))\n",
    "new_y = np.array(new_y)\n",
    "new_y.shape"
   ]
  },
  {
   "cell_type": "code",
   "execution_count": 20,
   "metadata": {},
   "outputs": [
    {
     "data": {
      "text/plain": [
       "array([146.70024 ,  79.28642 ,  64.816055, 100.20211 , 132.77379 ,\n",
       "        85.53398 , 163.26947 ,  76.15987 ,  79.22533 ,  97.796196,\n",
       "        50.409405, 107.410416, 118.995186,  63.79047 , 173.34938 ,\n",
       "        53.58349 ,  81.620926,  76.18237 ,  28.79355 ,  95.408936,\n",
       "       111.89458 , 135.73055 , 166.41982 , 174.3788  ,  91.73876 ,\n",
       "       192.88976 , 121.24365 , 171.99316 , 129.44328 , 197.92229 ],\n",
       "      dtype=float32)"
      ]
     },
     "execution_count": 20,
     "metadata": {},
     "output_type": "execute_result"
    }
   ],
   "source": [
    "new_y[0]"
   ]
  },
  {
   "cell_type": "code",
   "execution_count": 14,
   "metadata": {},
   "outputs": [],
   "source": [
    "columns = []\n",
    "for col in df.columns:\n",
    "    columns.append(col)"
   ]
  },
  {
   "cell_type": "code",
   "execution_count": 15,
   "metadata": {},
   "outputs": [],
   "source": [
    "new_y_df = pd.DataFrame(data=new_y.astype('float64'), columns=columns[:-1])"
   ]
  },
  {
   "cell_type": "code",
   "execution_count": 16,
   "metadata": {},
   "outputs": [],
   "source": [
    "new_X_df = pd.DataFrame([], columns=['Image'], index=range(len(new_X)))\n",
    "\n",
    "for i in range(len(new_X)):\n",
    "    str_ = \"\"\n",
    "    for j in range(new_X.shape[1]):\n",
    "        str_ += \"{} \".format(new_X[i, j])\n",
    "    new_X_df.iloc[i, 0] = str_\n",
    "    # new_X_df.iloc[i, 0] = np.array2string(new_X[i], separator=' ').replace(\"[\", \"\").replace(\"]\", \"\")"
   ]
  },
  {
   "cell_type": "code",
   "execution_count": 17,
   "metadata": {},
   "outputs": [],
   "source": [
    "new_df = pd.concat([new_y_df, new_X_df], axis=1)\n",
    "new_df.to_csv('data/resized226_rotate_30.csv', index=False)"
   ]
  },
  {
   "cell_type": "markdown",
   "metadata": {},
   "source": [
    "## shifting keypoints"
   ]
  },
  {
   "cell_type": "code",
   "execution_count": 59,
   "metadata": {},
   "outputs": [
    {
     "data": {
      "image/png": "[encoded data removed]",
      "text/plain": [
       "<Figure size 576x96 with 1 Axes>"
      ]
     },
     "metadata": {
      "needs_background": "light"
     },
     "output_type": "display_data"
    }
   ],
   "source": [
    "img_pad = ia.pad(img, left=10)\n",
    "kpsoi_pad = kpsoi.shift(x=10)\n",
    "ia.imshow(kpsoi_pad.draw_on_image(img_pad, size=2))"
   ]
  },
  {
   "cell_type": "code",
   "execution_count": 66,
   "metadata": {},
   "outputs": [
    {
     "name": "stdout",
     "output_type": "stream",
     "text": [
      "(15, 2)\n",
      "[[66.03356  39.002274]\n",
      " [30.227007 36.421677]\n",
      " [59.582077 39.647423]\n",
      " [73.13035  39.969997]\n",
      " [36.35657  37.3894  ]\n",
      " [23.452871 37.3894  ]\n",
      " [56.953262 29.033648]\n",
      " [80.22713  32.228138]\n",
      " [40.227608 29.002321]\n",
      " [16.356379 29.64747 ]\n",
      " [44.42057  57.066803]\n",
      " [61.19531  79.97017 ]\n",
      " [28.614496 77.38899 ]\n",
      " [43.312603 72.935455]\n",
      " [43.130707 84.48577 ]]\n",
      "[66.03356  39.002274 30.227007 36.421677 59.582077 39.647423 73.13035\n",
      " 39.969997 36.35657  37.3894   23.452871 37.3894   56.953262 29.033648\n",
      " 80.22713  32.228138 40.227608 29.002321 16.356379 29.64747  44.42057\n",
      " 57.066803 61.19531  79.97017  28.614496 77.38899  43.312603 72.935455\n",
      " 43.130707 84.48577 ]\n"
     ]
    }
   ],
   "source": [
    "arr = kpsoi.to_xy_array()\n",
    "print(arr.shape)\n",
    "print(arr)\n",
    "print(arr.reshape(-1))"
   ]
  }
 ],
 "metadata": {
  "kernelspec": {
   "display_name": "Python 3",
   "language": "python",
   "name": "python3"
  },
  "language_info": {
   "codemirror_mode": {
    "name": "ipython",
    "version": 3
   },
   "file_extension": ".py",
   "mimetype": "text/x-python",
   "name": "python",
   "nbconvert_exporter": "python",
   "pygments_lexer": "ipython3",
   "version": "3.7.3"
  }
 },
 "nbformat": 4,
 "nbformat_minor": 4
}
