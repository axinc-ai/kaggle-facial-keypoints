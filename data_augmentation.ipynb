{
 "cells": [
  {
   "cell_type": "code",
   "execution_count": 1,
   "metadata": {},
   "outputs": [],
   "source": [
    "import numpy as np\n",
    "import pandas as pd\n",
    "import matplotlib.pyplot as plt\n",
    "%matplotlib inline\n",
    "import seaborn as sns\n",
    "\n",
    "import imgaug as ia"
   ]
  },
  {
   "cell_type": "code",
   "execution_count": 2,
   "metadata": {},
   "outputs": [],
   "source": [
    "df = pd.read_csv(\"data/training.csv\")\n",
    "df['Image'] = df['Image'].apply(lambda im:np.fromstring(im, sep=' '))"
   ]
  },
  {
   "cell_type": "code",
   "execution_count": 47,
   "metadata": {},
   "outputs": [
    {
     "name": "stdout",
     "output_type": "stream",
     "text": [
      "<class 'pandas.core.frame.DataFrame'>\n",
      "Int64Index: 2140 entries, 0 to 2283\n",
      "Data columns (total 31 columns):\n",
      "left_eye_center_x            2140 non-null float64\n",
      "left_eye_center_y            2140 non-null float64\n",
      "right_eye_center_x           2140 non-null float64\n",
      "right_eye_center_y           2140 non-null float64\n",
      "left_eye_inner_corner_x      2140 non-null float64\n",
      "left_eye_inner_corner_y      2140 non-null float64\n",
      "left_eye_outer_corner_x      2140 non-null float64\n",
      "left_eye_outer_corner_y      2140 non-null float64\n",
      "right_eye_inner_corner_x     2140 non-null float64\n",
      "right_eye_inner_corner_y     2140 non-null float64\n",
      "right_eye_outer_corner_x     2140 non-null float64\n",
      "right_eye_outer_corner_y     2140 non-null float64\n",
      "left_eyebrow_inner_end_x     2140 non-null float64\n",
      "left_eyebrow_inner_end_y     2140 non-null float64\n",
      "left_eyebrow_outer_end_x     2140 non-null float64\n",
      "left_eyebrow_outer_end_y     2140 non-null float64\n",
      "right_eyebrow_inner_end_x    2140 non-null float64\n",
      "right_eyebrow_inner_end_y    2140 non-null float64\n",
      "right_eyebrow_outer_end_x    2140 non-null float64\n",
      "right_eyebrow_outer_end_y    2140 non-null float64\n",
      "nose_tip_x                   2140 non-null float64\n",
      "nose_tip_y                   2140 non-null float64\n",
      "mouth_left_corner_x          2140 non-null float64\n",
      "mouth_left_corner_y          2140 non-null float64\n",
      "mouth_right_corner_x         2140 non-null float64\n",
      "mouth_right_corner_y         2140 non-null float64\n",
      "mouth_center_top_lip_x       2140 non-null float64\n",
      "mouth_center_top_lip_y       2140 non-null float64\n",
      "mouth_center_bottom_lip_x    2140 non-null float64\n",
      "mouth_center_bottom_lip_y    2140 non-null float64\n",
      "Image                        2140 non-null object\n",
      "dtypes: float64(30), object(1)\n",
      "memory usage: 535.0+ KB\n"
     ]
    }
   ],
   "source": [
    "df.info()"
   ]
  },
  {
   "cell_type": "code",
   "execution_count": 3,
   "metadata": {},
   "outputs": [
    {
     "data": {
      "text/plain": [
       "left_eye_center_x            7039\n",
       "left_eye_center_y            7039\n",
       "right_eye_center_x           7036\n",
       "right_eye_center_y           7036\n",
       "left_eye_inner_corner_x      2271\n",
       "left_eye_inner_corner_y      2271\n",
       "left_eye_outer_corner_x      2267\n",
       "left_eye_outer_corner_y      2267\n",
       "right_eye_inner_corner_x     2268\n",
       "right_eye_inner_corner_y     2268\n",
       "right_eye_outer_corner_x     2268\n",
       "right_eye_outer_corner_y     2268\n",
       "left_eyebrow_inner_end_x     2270\n",
       "left_eyebrow_inner_end_y     2270\n",
       "left_eyebrow_outer_end_x     2225\n",
       "left_eyebrow_outer_end_y     2225\n",
       "right_eyebrow_inner_end_x    2270\n",
       "right_eyebrow_inner_end_y    2270\n",
       "right_eyebrow_outer_end_x    2236\n",
       "right_eyebrow_outer_end_y    2236\n",
       "nose_tip_x                   7049\n",
       "nose_tip_y                   7049\n",
       "mouth_left_corner_x          2269\n",
       "mouth_left_corner_y          2269\n",
       "mouth_right_corner_x         2270\n",
       "mouth_right_corner_y         2270\n",
       "mouth_center_top_lip_x       2275\n",
       "mouth_center_top_lip_y       2275\n",
       "mouth_center_bottom_lip_x    7016\n",
       "mouth_center_bottom_lip_y    7016\n",
       "Image                        7049\n",
       "dtype: int64"
      ]
     },
     "execution_count": 3,
     "metadata": {},
     "output_type": "execute_result"
    }
   ],
   "source": [
    "df.count()"
   ]
  },
  {
   "cell_type": "code",
   "execution_count": 4,
   "metadata": {},
   "outputs": [],
   "source": [
    "df = df.dropna()"
   ]
  },
  {
   "cell_type": "code",
   "execution_count": 5,
   "metadata": {},
   "outputs": [],
   "source": [
    "# regularisation\n",
    "X = np.vstack(df['Image'].values)# / 255\n",
    "X = X.astype(np.float32)"
   ]
  },
  {
   "cell_type": "code",
   "execution_count": 6,
   "metadata": {},
   "outputs": [],
   "source": [
    "y = df[df.columns[:-1]].values\n",
    "X = X.reshape(X.shape[0], 96, 96)"
   ]
  },
  {
   "cell_type": "code",
   "execution_count": 7,
   "metadata": {},
   "outputs": [],
   "source": [
    "from imgaug.augmentables.kps import Keypoint, KeypointsOnImage\n",
    "\n",
    "def get_kps(y_data):\n",
    "    \"\"\"\n",
    "    param: y_data: annotations set\n",
    "    \"\"\"\n",
    "    kps = []\n",
    "    for i in range(len(y_data) // 2):\n",
    "        kps.append(Keypoint(y_data[2 * i], y_data[2 * i + 1]))\n",
    "    return kps\n",
    "\n",
    "\n",
    "def arr_to_kps(annotations):\n",
    "    kpss = []\n",
    "    for anno in annotations:\n",
    "        kpss.append(get_kps(anno))\n",
    "    return kpss\n",
    "\n",
    "\n",
    "def gray_to_rgb(imgs):\n",
    "    \"\"\"\n",
    "    param: imgs: (batch, height, width)\n",
    "    \"\"\"\n",
    "    rgb_imgs = np.zeros((imgs.shape[0], imgs.shape[1], imgs.shape[2], 3))\n",
    "    for i in range(3):\n",
    "        rgb_imgs[:, :, :, i] = imgs\n",
    "    return rgb_imgs.astype('uint8')\n",
    "        \n",
    "# test\n",
    "# kps = get_kps(y[0])\n",
    "# kpsoi = KeypointsOnImage(kps, shape=X[0].shape)\n",
    "# X_ = gray_to_rgb(X)\n",
    "# ia.imshow(kpsoi.draw_on_image(X_[0], size=2))"
   ]
  },
  {
   "cell_type": "markdown",
   "metadata": {},
   "source": [
    "## Augmentation function"
   ]
  },
  {
   "cell_type": "markdown",
   "metadata": {},
   "source": [
    "Now to the actual augmentation. We want to apply an affine transformation, which will alter both the image and the keypoints. We choose a bit of translation and rotation as our transoformation. Additionally, we add a bit of color jittering to the mix. That color jitter is only going to affect the image, not the keypoints."
   ]
  },
  {
   "cell_type": "code",
   "execution_count": 8,
   "metadata": {},
   "outputs": [],
   "source": [
    "import imgaug.augmenters as iaa\n",
    "ia.seed(3)\n",
    "\n",
    "seq = iaa.Sequential([\n",
    "    iaa.Affine(rotate=(-30, 30))\n",
    "    # iaa.Affine(translate_px={\"x\":(10, 30)}, rotate=(-10, 10)),\n",
    "    # iaa.AddToHueAndSaturation((-50, 50))  #color jitter, only affects the image\n",
    "])"
   ]
  },
  {
   "cell_type": "code",
   "execution_count": 9,
   "metadata": {},
   "outputs": [],
   "source": [
    "X = gray_to_rgb(X)\n",
    "y = arr_to_kps(y)\n",
    "aug_X = []\n",
    "aug_y = []\n",
    "for i in range(X.shape[0]):\n",
    "    aug_img, aug_kpsoi = seq(image=X[i], keypoints=y[i])\n",
    "    aug_X.append(aug_img)\n",
    "    aug_y.append(aug_kpsoi)\n",
    "\n",
    "    \n",
    "\n",
    "# img = ia.imresize_single_image(img.astype('uint8'), (96, 96))\n",
    "# img_aug, kpsoi_aug = seq(image=img, keypoints=kpsoi)"
   ]
  },
  {
   "cell_type": "code",
   "execution_count": 18,
   "metadata": {},
   "outputs": [
    {
     "data": {
      "image/png": "[encoded data removed]",
      "text/plain": [
       "<Figure size 576x96 with 1 Axes>"
      ]
     },
     "metadata": {
      "needs_background": "light"
     },
     "output_type": "display_data"
    }
   ],
   "source": [
    "ia.imshow(\n",
    "    np.hstack([\n",
    "        # kpsoi.draw_on_image(img, size=2),\n",
    "        # kpsoi_aug.draw_on_image(img_aug, size=2)\n",
    "        KeypointsOnImage(y[0], shape=X[0].shape).draw_on_image(X[0], size=2),\n",
    "        KeypointsOnImage(aug_y[0], shape=aug_X[0].shape).draw_on_image(aug_X[0], size=2)\n",
    "    ])\n",
    ")"
   ]
  },
  {
   "cell_type": "code",
   "execution_count": 71,
   "metadata": {},
   "outputs": [
    {
     "name": "stdout",
     "output_type": "stream",
     "text": [
      "(2140, 1, 9216)\n"
     ]
    }
   ],
   "source": [
    "# transformed images to save csv file\n",
    "new_X = []\n",
    "for img in aug_X:\n",
    "    new_X.append(img[:, :, 0])\n",
    "new_X = np.array(new_X).reshape(np.array(new_X).shape[0], -1)\n",
    "print(new_X.shape)"
   ]
  },
  {
   "cell_type": "code",
   "execution_count": 70,
   "metadata": {},
   "outputs": [
    {
     "data": {
      "text/plain": [
       "(2140, 30)"
      ]
     },
     "execution_count": 70,
     "metadata": {},
     "output_type": "execute_result"
    }
   ],
   "source": [
    "# transformed annotations to save csv file\n",
    "new_y = []\n",
    "for anno in aug_y:\n",
    "    new_y.append(KeypointsOnImage(anno, shape=X[0].shape).to_xy_array().reshape(-1))\n",
    "new_y = np.array(new_y)\n",
    "new_y.shape"
   ]
  },
  {
   "cell_type": "code",
   "execution_count": 81,
   "metadata": {},
   "outputs": [],
   "source": [
    "columns = []\n",
    "for col in df.columns:\n",
    "    columns.append(col)"
   ]
  },
  {
   "cell_type": "code",
   "execution_count": 90,
   "metadata": {},
   "outputs": [
    {
     "ename": "ValueError",
     "evalue": "Must pass 2-d input",
     "output_type": "error",
     "traceback": [
      "\u001b[0;31m---------------------------------------------------------------------------\u001b[0m",
      "\u001b[0;31mValueError\u001b[0m                                Traceback (most recent call last)",
      "\u001b[0;32m<ipython-input-90-75d10bb02add>\u001b[0m in \u001b[0;36m<module>\u001b[0;34m\u001b[0m\n\u001b[0;32m----> 1\u001b[0;31m \u001b[0mnew_X_df\u001b[0m \u001b[0;34m=\u001b[0m \u001b[0mpd\u001b[0m\u001b[0;34m.\u001b[0m\u001b[0mDataFrame\u001b[0m\u001b[0;34m(\u001b[0m\u001b[0mdata\u001b[0m\u001b[0;34m=\u001b[0m\u001b[0mnew_X\u001b[0m\u001b[0;34m,\u001b[0m \u001b[0mcolumns\u001b[0m\u001b[0;34m=\u001b[0m\u001b[0;34m[\u001b[0m\u001b[0;34m'Image'\u001b[0m\u001b[0;34m]\u001b[0m\u001b[0;34m)\u001b[0m\u001b[0;34m\u001b[0m\u001b[0;34m\u001b[0m\u001b[0m\n\u001b[0m\u001b[1;32m      2\u001b[0m \u001b[0;31m# new_y_df = pd.DataFrame(data=new_y.astype('float64'), columns=columns[:-1])\u001b[0m\u001b[0;34m\u001b[0m\u001b[0;34m\u001b[0m\u001b[0;34m\u001b[0m\u001b[0m\n",
      "\u001b[0;32m~/.local/lib/python3.7/site-packages/pandas/core/frame.py\u001b[0m in \u001b[0;36m__init__\u001b[0;34m(self, data, index, columns, dtype, copy)\u001b[0m\n\u001b[1;32m    438\u001b[0m                 \u001b[0mmgr\u001b[0m \u001b[0;34m=\u001b[0m \u001b[0minit_dict\u001b[0m\u001b[0;34m(\u001b[0m\u001b[0;34m{\u001b[0m\u001b[0mdata\u001b[0m\u001b[0;34m.\u001b[0m\u001b[0mname\u001b[0m\u001b[0;34m:\u001b[0m \u001b[0mdata\u001b[0m\u001b[0;34m}\u001b[0m\u001b[0;34m,\u001b[0m \u001b[0mindex\u001b[0m\u001b[0;34m,\u001b[0m \u001b[0mcolumns\u001b[0m\u001b[0;34m,\u001b[0m \u001b[0mdtype\u001b[0m\u001b[0;34m=\u001b[0m\u001b[0mdtype\u001b[0m\u001b[0;34m)\u001b[0m\u001b[0;34m\u001b[0m\u001b[0;34m\u001b[0m\u001b[0m\n\u001b[1;32m    439\u001b[0m             \u001b[0;32melse\u001b[0m\u001b[0;34m:\u001b[0m\u001b[0;34m\u001b[0m\u001b[0;34m\u001b[0m\u001b[0m\n\u001b[0;32m--> 440\u001b[0;31m                 \u001b[0mmgr\u001b[0m \u001b[0;34m=\u001b[0m \u001b[0minit_ndarray\u001b[0m\u001b[0;34m(\u001b[0m\u001b[0mdata\u001b[0m\u001b[0;34m,\u001b[0m \u001b[0mindex\u001b[0m\u001b[0;34m,\u001b[0m \u001b[0mcolumns\u001b[0m\u001b[0;34m,\u001b[0m \u001b[0mdtype\u001b[0m\u001b[0;34m=\u001b[0m\u001b[0mdtype\u001b[0m\u001b[0;34m,\u001b[0m \u001b[0mcopy\u001b[0m\u001b[0;34m=\u001b[0m\u001b[0mcopy\u001b[0m\u001b[0;34m)\u001b[0m\u001b[0;34m\u001b[0m\u001b[0;34m\u001b[0m\u001b[0m\n\u001b[0m\u001b[1;32m    441\u001b[0m \u001b[0;34m\u001b[0m\u001b[0m\n\u001b[1;32m    442\u001b[0m         \u001b[0;31m# For data is list-like, or Iterable (will consume into list)\u001b[0m\u001b[0;34m\u001b[0m\u001b[0;34m\u001b[0m\u001b[0;34m\u001b[0m\u001b[0m\n",
      "\u001b[0;32m~/.local/lib/python3.7/site-packages/pandas/core/internals/construction.py\u001b[0m in \u001b[0;36minit_ndarray\u001b[0;34m(values, index, columns, dtype, copy)\u001b[0m\n\u001b[1;32m    169\u001b[0m     \u001b[0;31m# by definition an array here\u001b[0m\u001b[0;34m\u001b[0m\u001b[0;34m\u001b[0m\u001b[0;34m\u001b[0m\u001b[0m\n\u001b[1;32m    170\u001b[0m     \u001b[0;31m# the dtypes will be coerced to a single dtype\u001b[0m\u001b[0;34m\u001b[0m\u001b[0;34m\u001b[0m\u001b[0;34m\u001b[0m\u001b[0m\n\u001b[0;32m--> 171\u001b[0;31m     \u001b[0mvalues\u001b[0m \u001b[0;34m=\u001b[0m \u001b[0mprep_ndarray\u001b[0m\u001b[0;34m(\u001b[0m\u001b[0mvalues\u001b[0m\u001b[0;34m,\u001b[0m \u001b[0mcopy\u001b[0m\u001b[0;34m=\u001b[0m\u001b[0mcopy\u001b[0m\u001b[0;34m)\u001b[0m\u001b[0;34m\u001b[0m\u001b[0;34m\u001b[0m\u001b[0m\n\u001b[0m\u001b[1;32m    172\u001b[0m \u001b[0;34m\u001b[0m\u001b[0m\n\u001b[1;32m    173\u001b[0m     \u001b[0;32mif\u001b[0m \u001b[0mdtype\u001b[0m \u001b[0;32mis\u001b[0m \u001b[0;32mnot\u001b[0m \u001b[0;32mNone\u001b[0m\u001b[0;34m:\u001b[0m\u001b[0;34m\u001b[0m\u001b[0;34m\u001b[0m\u001b[0m\n",
      "\u001b[0;32m~/.local/lib/python3.7/site-packages/pandas/core/internals/construction.py\u001b[0m in \u001b[0;36mprep_ndarray\u001b[0;34m(values, copy)\u001b[0m\n\u001b[1;32m    293\u001b[0m         \u001b[0mvalues\u001b[0m \u001b[0;34m=\u001b[0m \u001b[0mvalues\u001b[0m\u001b[0;34m.\u001b[0m\u001b[0mreshape\u001b[0m\u001b[0;34m(\u001b[0m\u001b[0;34m(\u001b[0m\u001b[0mvalues\u001b[0m\u001b[0;34m.\u001b[0m\u001b[0mshape\u001b[0m\u001b[0;34m[\u001b[0m\u001b[0;36m0\u001b[0m\u001b[0;34m]\u001b[0m\u001b[0;34m,\u001b[0m \u001b[0;36m1\u001b[0m\u001b[0;34m)\u001b[0m\u001b[0;34m)\u001b[0m\u001b[0;34m\u001b[0m\u001b[0;34m\u001b[0m\u001b[0m\n\u001b[1;32m    294\u001b[0m     \u001b[0;32melif\u001b[0m \u001b[0mvalues\u001b[0m\u001b[0;34m.\u001b[0m\u001b[0mndim\u001b[0m \u001b[0;34m!=\u001b[0m \u001b[0;36m2\u001b[0m\u001b[0;34m:\u001b[0m\u001b[0;34m\u001b[0m\u001b[0;34m\u001b[0m\u001b[0m\n\u001b[0;32m--> 295\u001b[0;31m         \u001b[0;32mraise\u001b[0m \u001b[0mValueError\u001b[0m\u001b[0;34m(\u001b[0m\u001b[0;34m\"Must pass 2-d input\"\u001b[0m\u001b[0;34m)\u001b[0m\u001b[0;34m\u001b[0m\u001b[0;34m\u001b[0m\u001b[0m\n\u001b[0m\u001b[1;32m    296\u001b[0m \u001b[0;34m\u001b[0m\u001b[0m\n\u001b[1;32m    297\u001b[0m     \u001b[0;32mreturn\u001b[0m \u001b[0mvalues\u001b[0m\u001b[0;34m\u001b[0m\u001b[0;34m\u001b[0m\u001b[0m\n",
      "\u001b[0;31mValueError\u001b[0m: Must pass 2-d input"
     ]
    }
   ],
   "source": [
    "new_y_df = pd.DataFrame(data=new_y.astype('float64'), columns=columns[:-1])"
   ]
  },
  {
   "cell_type": "code",
   "execution_count": 161,
   "metadata": {},
   "outputs": [],
   "source": [
    "new_X_df = pd.DataFrame([], columns=['Image'], index=range(len(new_X)))\n",
    "\n",
    "for i in range(len(new_X)):\n",
    "    str_ = \"\"\n",
    "    for j in range(new_X.shape[1]):\n",
    "        str_ += \"{} \".format(new_X[i, j])\n",
    "    new_X_df.iloc[i, 0] = str_\n",
    "    # new_X_df.iloc[i, 0] = np.array2string(new_X[i], separator=' ').replace(\"[\", \"\").replace(\"]\", \"\")"
   ]
  },
  {
   "cell_type": "code",
   "execution_count": 163,
   "metadata": {},
   "outputs": [
    {
     "data": {
      "text/html": [
       "<div>\n",
       "<style scoped>\n",
       "    .dataframe tbody tr th:only-of-type {\n",
       "        vertical-align: middle;\n",
       "    }\n",
       "\n",
       "    .dataframe tbody tr th {\n",
       "        vertical-align: top;\n",
       "    }\n",
       "\n",
       "    .dataframe thead th {\n",
       "        text-align: right;\n",
       "    }\n",
       "</style>\n",
       "<table border=\"1\" class=\"dataframe\">\n",
       "  <thead>\n",
       "    <tr style=\"text-align: right;\">\n",
       "      <th></th>\n",
       "      <th>Image</th>\n",
       "    </tr>\n",
       "  </thead>\n",
       "  <tbody>\n",
       "    <tr>\n",
       "      <td>0</td>\n",
       "      <td>0 0 0 0 0 0 0 0 219 233 233 233 236 237 235 23...</td>\n",
       "    </tr>\n",
       "    <tr>\n",
       "      <td>1</td>\n",
       "      <td>0 0 0 0 0 0 0 0 0 0 0 0 0 0 0 0 0 0 0 0 0 0 0 ...</td>\n",
       "    </tr>\n",
       "    <tr>\n",
       "      <td>2</td>\n",
       "      <td>0 0 0 0 0 0 0 0 0 0 0 0 0 0 0 0 0 0 0 0 0 0 0 ...</td>\n",
       "    </tr>\n",
       "    <tr>\n",
       "      <td>3</td>\n",
       "      <td>0 0 0 0 0 0 0 0 0 0 0 0 0 0 0 0 0 0 0 0 0 0 0 ...</td>\n",
       "    </tr>\n",
       "    <tr>\n",
       "      <td>4</td>\n",
       "      <td>0 0 0 0 0 0 0 0 0 0 0 0 0 0 0 0 0 0 0 0 0 0 0 ...</td>\n",
       "    </tr>\n",
       "  </tbody>\n",
       "</table>\n",
       "</div>"
      ],
      "text/plain": [
       "                                               Image\n",
       "0  0 0 0 0 0 0 0 0 219 233 233 233 236 237 235 23...\n",
       "1  0 0 0 0 0 0 0 0 0 0 0 0 0 0 0 0 0 0 0 0 0 0 0 ...\n",
       "2  0 0 0 0 0 0 0 0 0 0 0 0 0 0 0 0 0 0 0 0 0 0 0 ...\n",
       "3  0 0 0 0 0 0 0 0 0 0 0 0 0 0 0 0 0 0 0 0 0 0 0 ...\n",
       "4  0 0 0 0 0 0 0 0 0 0 0 0 0 0 0 0 0 0 0 0 0 0 0 ..."
      ]
     },
     "execution_count": 163,
     "metadata": {},
     "output_type": "execute_result"
    }
   ],
   "source": [
    "# np.fromstring(np.array2string(new_X[0], separator=' ').replace(\"[\", \"\").replace(\"]\", \"\"), sep=' ')\n",
    "new_X_df.head()"
   ]
  },
  {
   "cell_type": "code",
   "execution_count": 164,
   "metadata": {},
   "outputs": [],
   "source": [
    "new_df = pd.concat([new_y_df, new_X_df], axis=1)\n",
    "new_df.to_csv('data/rotate_30.csv', index=False)"
   ]
  },
  {
   "cell_type": "code",
   "execution_count": 129,
   "metadata": {},
   "outputs": [
    {
     "data": {
      "text/html": [
       "<div>\n",
       "<style scoped>\n",
       "    .dataframe tbody tr th:only-of-type {\n",
       "        vertical-align: middle;\n",
       "    }\n",
       "\n",
       "    .dataframe tbody tr th {\n",
       "        vertical-align: top;\n",
       "    }\n",
       "\n",
       "    .dataframe thead th {\n",
       "        text-align: right;\n",
       "    }\n",
       "</style>\n",
       "<table border=\"1\" class=\"dataframe\">\n",
       "  <thead>\n",
       "    <tr style=\"text-align: right;\">\n",
       "      <th></th>\n",
       "      <th>left_eye_center_x</th>\n",
       "      <th>left_eye_center_y</th>\n",
       "      <th>right_eye_center_x</th>\n",
       "      <th>right_eye_center_y</th>\n",
       "      <th>left_eye_inner_corner_x</th>\n",
       "      <th>left_eye_inner_corner_y</th>\n",
       "      <th>left_eye_outer_corner_x</th>\n",
       "      <th>left_eye_outer_corner_y</th>\n",
       "      <th>right_eye_inner_corner_x</th>\n",
       "      <th>right_eye_inner_corner_y</th>\n",
       "      <th>...</th>\n",
       "      <th>nose_tip_y</th>\n",
       "      <th>mouth_left_corner_x</th>\n",
       "      <th>mouth_left_corner_y</th>\n",
       "      <th>mouth_right_corner_x</th>\n",
       "      <th>mouth_right_corner_y</th>\n",
       "      <th>mouth_center_top_lip_x</th>\n",
       "      <th>mouth_center_top_lip_y</th>\n",
       "      <th>mouth_center_bottom_lip_x</th>\n",
       "      <th>mouth_center_bottom_lip_y</th>\n",
       "      <th>Image</th>\n",
       "    </tr>\n",
       "  </thead>\n",
       "  <tbody>\n",
       "    <tr>\n",
       "      <td>0</td>\n",
       "      <td>67.281868</td>\n",
       "      <td>42.562187</td>\n",
       "      <td>32.563641</td>\n",
       "      <td>33.429085</td>\n",
       "      <td>60.821957</td>\n",
       "      <td>42.007729</td>\n",
       "      <td>74.078896</td>\n",
       "      <td>44.820793</td>\n",
       "      <td>38.410000</td>\n",
       "      <td>35.509499</td>\n",
       "      <td>...</td>\n",
       "      <td>56.335720</td>\n",
       "      <td>54.978874</td>\n",
       "      <td>81.937477</td>\n",
       "      <td>23.431280</td>\n",
       "      <td>73.398087</td>\n",
       "      <td>38.698280</td>\n",
       "      <td>71.728630</td>\n",
       "      <td>36.391571</td>\n",
       "      <td>83.047722</td>\n",
       "      <td>0 0 0 ... 0 0 0</td>\n",
       "    </tr>\n",
       "    <tr>\n",
       "      <td>1</td>\n",
       "      <td>57.770973</td>\n",
       "      <td>29.200987</td>\n",
       "      <td>25.748238</td>\n",
       "      <td>41.814281</td>\n",
       "      <td>52.892868</td>\n",
       "      <td>31.709303</td>\n",
       "      <td>64.102531</td>\n",
       "      <td>27.710325</td>\n",
       "      <td>31.677923</td>\n",
       "      <td>40.169666</td>\n",
       "      <td>...</td>\n",
       "      <td>54.665874</td>\n",
       "      <td>67.398109</td>\n",
       "      <td>70.217728</td>\n",
       "      <td>47.821384</td>\n",
       "      <td>78.613838</td>\n",
       "      <td>56.026981</td>\n",
       "      <td>68.625137</td>\n",
       "      <td>61.111526</td>\n",
       "      <td>83.015480</td>\n",
       "      <td>0 0 0 ... 0 0 0</td>\n",
       "    </tr>\n",
       "    <tr>\n",
       "      <td>2</td>\n",
       "      <td>59.947910</td>\n",
       "      <td>29.841667</td>\n",
       "      <td>27.689295</td>\n",
       "      <td>41.058933</td>\n",
       "      <td>55.079552</td>\n",
       "      <td>33.028759</td>\n",
       "      <td>66.009995</td>\n",
       "      <td>29.227921</td>\n",
       "      <td>34.551342</td>\n",
       "      <td>40.167019</td>\n",
       "      <td>...</td>\n",
       "      <td>53.185131</td>\n",
       "      <td>68.463760</td>\n",
       "      <td>67.223129</td>\n",
       "      <td>42.777584</td>\n",
       "      <td>75.856079</td>\n",
       "      <td>54.740303</td>\n",
       "      <td>69.006882</td>\n",
       "      <td>57.521389</td>\n",
       "      <td>77.004723</td>\n",
       "      <td>0 0 0 ... 0 0 0</td>\n",
       "    </tr>\n",
       "    <tr>\n",
       "      <td>3</td>\n",
       "      <td>57.814331</td>\n",
       "      <td>29.818438</td>\n",
       "      <td>28.982950</td>\n",
       "      <td>46.285587</td>\n",
       "      <td>54.204647</td>\n",
       "      <td>34.028351</td>\n",
       "      <td>64.525085</td>\n",
       "      <td>27.274445</td>\n",
       "      <td>34.581966</td>\n",
       "      <td>44.806293</td>\n",
       "      <td>...</td>\n",
       "      <td>51.114044</td>\n",
       "      <td>75.716103</td>\n",
       "      <td>60.409245</td>\n",
       "      <td>51.835403</td>\n",
       "      <td>75.766724</td>\n",
       "      <td>61.138668</td>\n",
       "      <td>65.727150</td>\n",
       "      <td>66.286369</td>\n",
       "      <td>72.203415</td>\n",
       "      <td>0 0 0 ... 0 0 0</td>\n",
       "    </tr>\n",
       "    <tr>\n",
       "      <td>4</td>\n",
       "      <td>62.886795</td>\n",
       "      <td>33.538147</td>\n",
       "      <td>29.934103</td>\n",
       "      <td>43.810375</td>\n",
       "      <td>55.216343</td>\n",
       "      <td>36.320263</td>\n",
       "      <td>68.420158</td>\n",
       "      <td>31.811150</td>\n",
       "      <td>34.746754</td>\n",
       "      <td>43.184734</td>\n",
       "      <td>...</td>\n",
       "      <td>65.279671</td>\n",
       "      <td>70.119133</td>\n",
       "      <td>71.233009</td>\n",
       "      <td>42.226742</td>\n",
       "      <td>80.790276</td>\n",
       "      <td>54.050735</td>\n",
       "      <td>73.002014</td>\n",
       "      <td>57.847664</td>\n",
       "      <td>85.627754</td>\n",
       "      <td>0 0 0 ... 0 0 0</td>\n",
       "    </tr>\n",
       "  </tbody>\n",
       "</table>\n",
       "<p>5 rows × 31 columns</p>\n",
       "</div>"
      ],
      "text/plain": [
       "   left_eye_center_x  left_eye_center_y  right_eye_center_x  \\\n",
       "0          67.281868          42.562187           32.563641   \n",
       "1          57.770973          29.200987           25.748238   \n",
       "2          59.947910          29.841667           27.689295   \n",
       "3          57.814331          29.818438           28.982950   \n",
       "4          62.886795          33.538147           29.934103   \n",
       "\n",
       "   right_eye_center_y  left_eye_inner_corner_x  left_eye_inner_corner_y  \\\n",
       "0           33.429085                60.821957                42.007729   \n",
       "1           41.814281                52.892868                31.709303   \n",
       "2           41.058933                55.079552                33.028759   \n",
       "3           46.285587                54.204647                34.028351   \n",
       "4           43.810375                55.216343                36.320263   \n",
       "\n",
       "   left_eye_outer_corner_x  left_eye_outer_corner_y  right_eye_inner_corner_x  \\\n",
       "0                74.078896                44.820793                 38.410000   \n",
       "1                64.102531                27.710325                 31.677923   \n",
       "2                66.009995                29.227921                 34.551342   \n",
       "3                64.525085                27.274445                 34.581966   \n",
       "4                68.420158                31.811150                 34.746754   \n",
       "\n",
       "   right_eye_inner_corner_y  ...  nose_tip_y  mouth_left_corner_x  \\\n",
       "0                 35.509499  ...   56.335720            54.978874   \n",
       "1                 40.169666  ...   54.665874            67.398109   \n",
       "2                 40.167019  ...   53.185131            68.463760   \n",
       "3                 44.806293  ...   51.114044            75.716103   \n",
       "4                 43.184734  ...   65.279671            70.119133   \n",
       "\n",
       "   mouth_left_corner_y  mouth_right_corner_x  mouth_right_corner_y  \\\n",
       "0            81.937477             23.431280             73.398087   \n",
       "1            70.217728             47.821384             78.613838   \n",
       "2            67.223129             42.777584             75.856079   \n",
       "3            60.409245             51.835403             75.766724   \n",
       "4            71.233009             42.226742             80.790276   \n",
       "\n",
       "   mouth_center_top_lip_x  mouth_center_top_lip_y  mouth_center_bottom_lip_x  \\\n",
       "0               38.698280               71.728630                  36.391571   \n",
       "1               56.026981               68.625137                  61.111526   \n",
       "2               54.740303               69.006882                  57.521389   \n",
       "3               61.138668               65.727150                  66.286369   \n",
       "4               54.050735               73.002014                  57.847664   \n",
       "\n",
       "   mouth_center_bottom_lip_y            Image  \n",
       "0                  83.047722  0 0 0 ... 0 0 0  \n",
       "1                  83.015480  0 0 0 ... 0 0 0  \n",
       "2                  77.004723  0 0 0 ... 0 0 0  \n",
       "3                  72.203415  0 0 0 ... 0 0 0  \n",
       "4                  85.627754  0 0 0 ... 0 0 0  \n",
       "\n",
       "[5 rows x 31 columns]"
      ]
     },
     "execution_count": 129,
     "metadata": {},
     "output_type": "execute_result"
    }
   ],
   "source": [
    "new_df.head()"
   ]
  },
  {
   "cell_type": "markdown",
   "metadata": {},
   "source": [
    "## Resize"
   ]
  },
  {
   "cell_type": "code",
   "execution_count": 56,
   "metadata": {},
   "outputs": [
    {
     "data": {
      "image/png": "[encoded data removed]",
      "text/plain": [
       "<Figure size 576x96 with 1 Axes>"
      ]
     },
     "metadata": {
      "needs_background": "light"
     },
     "output_type": "display_data"
    },
    {
     "data": {
      "image/png": "[encoded data removed]",
      "text/plain": [
       "<Figure size 576x192 with 1 Axes>"
      ]
     },
     "metadata": {
      "needs_background": "light"
     },
     "output_type": "display_data"
    },
    {
     "data": {
      "image/png": "[encoded data removed]",
      "text/plain": [
       "<Figure size 576x192 with 1 Axes>"
      ]
     },
     "metadata": {
      "needs_background": "light"
     },
     "output_type": "display_data"
    }
   ],
   "source": [
    "img_large = ia.imresize_single_image(img, 2.0)\n",
    "ia.imshow(kpsoi.draw_on_image(img, size=2))\n",
    "ia.imshow(kpsoi.draw_on_image(img_large, size=2))\n",
    "ia.imshow(kpsoi.on(img_large).draw_on_image(img_large, size=2))"
   ]
  },
  {
   "cell_type": "code",
   "execution_count": null,
   "metadata": {},
   "outputs": [],
   "source": []
  },
  {
   "cell_type": "markdown",
   "metadata": {},
   "source": [
    "## shifting keypoints"
   ]
  },
  {
   "cell_type": "code",
   "execution_count": 59,
   "metadata": {},
   "outputs": [
    {
     "data": {
      "image/png": "[encoded data removed]",
      "text/plain": [
       "<Figure size 576x96 with 1 Axes>"
      ]
     },
     "metadata": {
      "needs_background": "light"
     },
     "output_type": "display_data"
    }
   ],
   "source": [
    "img_pad = ia.pad(img, left=10)\n",
    "kpsoi_pad = kpsoi.shift(x=10)\n",
    "ia.imshow(kpsoi_pad.draw_on_image(img_pad, size=2))"
   ]
  },
  {
   "cell_type": "code",
   "execution_count": 66,
   "metadata": {},
   "outputs": [
    {
     "name": "stdout",
     "output_type": "stream",
     "text": [
      "(15, 2)\n",
      "[[66.03356  39.002274]\n",
      " [30.227007 36.421677]\n",
      " [59.582077 39.647423]\n",
      " [73.13035  39.969997]\n",
      " [36.35657  37.3894  ]\n",
      " [23.452871 37.3894  ]\n",
      " [56.953262 29.033648]\n",
      " [80.22713  32.228138]\n",
      " [40.227608 29.002321]\n",
      " [16.356379 29.64747 ]\n",
      " [44.42057  57.066803]\n",
      " [61.19531  79.97017 ]\n",
      " [28.614496 77.38899 ]\n",
      " [43.312603 72.935455]\n",
      " [43.130707 84.48577 ]]\n",
      "[66.03356  39.002274 30.227007 36.421677 59.582077 39.647423 73.13035\n",
      " 39.969997 36.35657  37.3894   23.452871 37.3894   56.953262 29.033648\n",
      " 80.22713  32.228138 40.227608 29.002321 16.356379 29.64747  44.42057\n",
      " 57.066803 61.19531  79.97017  28.614496 77.38899  43.312603 72.935455\n",
      " 43.130707 84.48577 ]\n"
     ]
    }
   ],
   "source": [
    "arr = kpsoi.to_xy_array()\n",
    "print(arr.shape)\n",
    "print(arr)\n",
    "print(arr.reshape(-1))"
   ]
  }
 ],
 "metadata": {
  "kernelspec": {
   "display_name": "Python 3",
   "language": "python",
   "name": "python3"
  },
  "language_info": {
   "codemirror_mode": {
    "name": "ipython",
    "version": 3
   },
   "file_extension": ".py",
   "mimetype": "text/x-python",
   "name": "python",
   "nbconvert_exporter": "python",
   "pygments_lexer": "ipython3",
   "version": "3.7.3"
  }
 },
 "nbformat": 4,
 "nbformat_minor": 4
}
