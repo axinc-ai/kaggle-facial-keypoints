{
 "cells": [
  {
   "cell_type": "code",
   "execution_count": 1,
   "metadata": {},
   "outputs": [],
   "source": [
    "import numpy as np\n",
    "import pandas as pd\n",
    "import matplotlib.pyplot as plt\n",
    "%matplotlib inline\n",
    "import seaborn as sns\n",
    "\n",
    "import imgaug as ia"
   ]
  },
  {
   "cell_type": "code",
   "execution_count": 34,
   "metadata": {},
   "outputs": [],
   "source": [
    "# df = pd.read_csv(\"data/training.csv\")\n",
    "df = pd.read_csv('data/resized226_org_train.csv')\n",
    "df['Image'] = df['Image'].apply(lambda im:np.fromstring(im, sep=' '))"
   ]
  },
  {
   "cell_type": "code",
   "execution_count": 35,
   "metadata": {},
   "outputs": [
    {
     "name": "stdout",
     "output_type": "stream",
     "text": [
      "<class 'pandas.core.frame.DataFrame'>\n",
      "RangeIndex: 2140 entries, 0 to 2139\n",
      "Data columns (total 31 columns):\n",
      "left_eye_center_x            2140 non-null float64\n",
      "left_eye_center_y            2140 non-null float64\n",
      "right_eye_center_x           2140 non-null float64\n",
      "right_eye_center_y           2140 non-null float64\n",
      "left_eye_inner_corner_x      2140 non-null float64\n",
      "left_eye_inner_corner_y      2140 non-null float64\n",
      "left_eye_outer_corner_x      2140 non-null float64\n",
      "left_eye_outer_corner_y      2140 non-null float64\n",
      "right_eye_inner_corner_x     2140 non-null float64\n",
      "right_eye_inner_corner_y     2140 non-null float64\n",
      "right_eye_outer_corner_x     2140 non-null float64\n",
      "right_eye_outer_corner_y     2140 non-null float64\n",
      "left_eyebrow_inner_end_x     2140 non-null float64\n",
      "left_eyebrow_inner_end_y     2140 non-null float64\n",
      "left_eyebrow_outer_end_x     2140 non-null float64\n",
      "left_eyebrow_outer_end_y     2140 non-null float64\n",
      "right_eyebrow_inner_end_x    2140 non-null float64\n",
      "right_eyebrow_inner_end_y    2140 non-null float64\n",
      "right_eyebrow_outer_end_x    2140 non-null float64\n",
      "right_eyebrow_outer_end_y    2140 non-null float64\n",
      "nose_tip_x                   2140 non-null float64\n",
      "nose_tip_y                   2140 non-null float64\n",
      "mouth_left_corner_x          2140 non-null float64\n",
      "mouth_left_corner_y          2140 non-null float64\n",
      "mouth_right_corner_x         2140 non-null float64\n",
      "mouth_right_corner_y         2140 non-null float64\n",
      "mouth_center_top_lip_x       2140 non-null float64\n",
      "mouth_center_top_lip_y       2140 non-null float64\n",
      "mouth_center_bottom_lip_x    2140 non-null float64\n",
      "mouth_center_bottom_lip_y    2140 non-null float64\n",
      "Image                        2140 non-null object\n",
      "dtypes: float64(30), object(1)\n",
      "memory usage: 518.4+ KB\n"
     ]
    }
   ],
   "source": [
    "df.info()"
   ]
  },
  {
   "cell_type": "code",
   "execution_count": 36,
   "metadata": {},
   "outputs": [
    {
     "data": {
      "text/plain": [
       "left_eye_center_x            2140\n",
       "left_eye_center_y            2140\n",
       "right_eye_center_x           2140\n",
       "right_eye_center_y           2140\n",
       "left_eye_inner_corner_x      2140\n",
       "left_eye_inner_corner_y      2140\n",
       "left_eye_outer_corner_x      2140\n",
       "left_eye_outer_corner_y      2140\n",
       "right_eye_inner_corner_x     2140\n",
       "right_eye_inner_corner_y     2140\n",
       "right_eye_outer_corner_x     2140\n",
       "right_eye_outer_corner_y     2140\n",
       "left_eyebrow_inner_end_x     2140\n",
       "left_eyebrow_inner_end_y     2140\n",
       "left_eyebrow_outer_end_x     2140\n",
       "left_eyebrow_outer_end_y     2140\n",
       "right_eyebrow_inner_end_x    2140\n",
       "right_eyebrow_inner_end_y    2140\n",
       "right_eyebrow_outer_end_x    2140\n",
       "right_eyebrow_outer_end_y    2140\n",
       "nose_tip_x                   2140\n",
       "nose_tip_y                   2140\n",
       "mouth_left_corner_x          2140\n",
       "mouth_left_corner_y          2140\n",
       "mouth_right_corner_x         2140\n",
       "mouth_right_corner_y         2140\n",
       "mouth_center_top_lip_x       2140\n",
       "mouth_center_top_lip_y       2140\n",
       "mouth_center_bottom_lip_x    2140\n",
       "mouth_center_bottom_lip_y    2140\n",
       "Image                        2140\n",
       "dtype: int64"
      ]
     },
     "execution_count": 36,
     "metadata": {},
     "output_type": "execute_result"
    }
   ],
   "source": [
    "df.count()"
   ]
  },
  {
   "cell_type": "code",
   "execution_count": 37,
   "metadata": {},
   "outputs": [],
   "source": [
    "df = df.dropna()"
   ]
  },
  {
   "cell_type": "code",
   "execution_count": 38,
   "metadata": {},
   "outputs": [],
   "source": [
    "X = np.vstack(df['Image'].values)\n",
    "X = X.astype(np.float32)"
   ]
  },
  {
   "cell_type": "code",
   "execution_count": 40,
   "metadata": {},
   "outputs": [],
   "source": [
    "y = df[df.columns[:-1]].values\n",
    "# X = X.reshape(X.shape[0], 96, 96)\n",
    "X = X.reshape(X.shape[0], 226, 226)"
   ]
  },
  {
   "cell_type": "code",
   "execution_count": 41,
   "metadata": {},
   "outputs": [],
   "source": [
    "from imgaug.augmentables.kps import Keypoint, KeypointsOnImage\n",
    "\n",
    "def get_kps(y_data):\n",
    "    \"\"\"\n",
    "    convert y_data into Keypoint()\n",
    "    \n",
    "    param: y_data: annotations set\n",
    "    \"\"\"\n",
    "    kps = []\n",
    "    for i in range(len(y_data) // 2):\n",
    "        kps.append(Keypoint(y_data[2 * i], y_data[2 * i + 1]))\n",
    "    return kps\n",
    "\n",
    "\n",
    "def arr_to_kps(annotations):\n",
    "    \"\"\"\n",
    "    Applying get_kps() function to all over the y_datas(argname: annotations)\n",
    "    \"\"\"\n",
    "    kpss = []\n",
    "    for anno in annotations:\n",
    "        kpss.append(get_kps(anno))\n",
    "    return kpss\n",
    "\n",
    "\n",
    "def gray_to_rgb(imgs):\n",
    "    \"\"\"\n",
    "    gray scale image to rgb image\n",
    "    \n",
    "    param: imgs: (batch, height, width)\n",
    "    \"\"\"\n",
    "    rgb_imgs = np.zeros((imgs.shape[0], imgs.shape[1], imgs.shape[2], 3))\n",
    "    for i in range(3):\n",
    "        rgb_imgs[:, :, :, i] = imgs\n",
    "    return rgb_imgs.astype('uint8')\n",
    "        \n",
    "# test\n",
    "# kps = get_kps(y[0])\n",
    "# kpsoi = KeypointsOnImage(kps, shape=X[0].shape)\n",
    "# X_ = gray_to_rgb(X)\n",
    "# ia.imshow(kpsoi.draw_on_image(X_[0], size=2))"
   ]
  },
  {
   "cell_type": "markdown",
   "metadata": {},
   "source": [
    "## Augmentation function"
   ]
  },
  {
   "cell_type": "markdown",
   "metadata": {},
   "source": [
    "### rotation"
   ]
  },
  {
   "cell_type": "markdown",
   "metadata": {},
   "source": [
    "Now to the actual augmentation. We want to apply an affine transformation, which will alter both the image and the keypoints. We choose a bit of translation and rotation as our transoformation. Additionally, we add a bit of color jittering to the mix. That color jitter is only going to affect the image, not the keypoints."
   ]
  },
  {
   "cell_type": "code",
   "execution_count": 42,
   "metadata": {},
   "outputs": [],
   "source": [
    "import imgaug.augmenters as iaa\n",
    "ia.seed(3)\n",
    "\n",
    "seq = iaa.Sequential([\n",
    "    iaa.Affine(rotate=(-30, 30))\n",
    "    # iaa.Affine(translate_px={\"x\":(10, 30)}, rotate=(-10, 10)),\n",
    "    # iaa.AddToHueAndSaturation((-50, 50))  #color jitter, only affects the image\n",
    "])"
   ]
  },
  {
   "cell_type": "code",
   "execution_count": 43,
   "metadata": {},
   "outputs": [],
   "source": [
    "X = gray_to_rgb(X)\n",
    "y = arr_to_kps(y)\n",
    "aug_X = []\n",
    "aug_y = []\n",
    "for i in range(X.shape[0]):\n",
    "    aug_img, aug_kpsoi = seq(image=X[i], keypoints=y[i])\n",
    "    aug_X.append(aug_img)\n",
    "    aug_y.append(aug_kpsoi)\n",
    "\n",
    "    \n",
    "\n",
    "# img = ia.imresize_single_image(img.astype('uint8'), (96, 96))\n",
    "# img_aug, kpsoi_aug = seq(image=img, keypoints=kpsoi)"
   ]
  },
  {
   "cell_type": "code",
   "execution_count": 44,
   "metadata": {},
   "outputs": [
    {
     "data": {
      "image/png": "[encoded data removed]",
      "text/plain": [
       "<Figure size 576x226 with 1 Axes>"
      ]
     },
     "metadata": {
      "needs_background": "light"
     },
     "output_type": "display_data"
    }
   ],
   "source": [
    "ia.imshow(\n",
    "    np.hstack([\n",
    "        # kpsoi.draw_on_image(img, size=2),\n",
    "        # kpsoi_aug.draw_on_image(img_aug, size=2)\n",
    "        KeypointsOnImage(y[0], shape=X[0].shape).draw_on_image(X[0], size=2),\n",
    "        KeypointsOnImage(aug_y[0], shape=aug_X[0].shape).draw_on_image(aug_X[0], size=2)\n",
    "    ])\n",
    ")"
   ]
  },
  {
   "cell_type": "markdown",
   "metadata": {},
   "source": [
    "### Resize into 226\n",
    "!!! ATTENTION !!!\n",
    "Don't use with rotate or whatever\n",
    "RUN ONLY THIS PART if you want to generate 226*226 size images\n",
    "then re-apply other data augmentation part\n",
    "\n",
    "If you want to use this code, change these cells modes."
   ]
  },
  {
   "cell_type": "markdown",
   "metadata": {},
   "source": [
    "X_ = gray_to_rgb(X)\n",
    "y_ = arr_to_kps(y)"
   ]
  },
  {
   "cell_type": "markdown",
   "metadata": {
    "jupyter": {
     "outputs_hidden": true
    }
   },
   "source": [
    "\"\"\"\n",
    "example code\n",
    "\"\"\"  \n",
    "\n",
    "kpsoi = KeypointsOnImage(y_[0], shape=X_[0].shape)\n",
    "image_larger = ia.imresize_single_image(X_[0], 2.0)\n",
    "\n",
    "print(\"Small image %s with keypoints optimized for the size:\" % (X_[0].shape,))\n",
    "ia.imshow(kpsoi.draw_on_image(X_[0], size=7))\n",
    "\n",
    "print(\"Large image %s with keypoints optimized for the small image size:\" % (image_larger.shape,))\n",
    "ia.imshow(kpsoi.draw_on_image(image_larger, size=7))\n",
    "\n",
    "print(\"Large image %s with keypoints projected onto that size:\" % (image_larger.shape,))\n",
    "ia.imshow(kpsoi.on(image_larger).draw_on_image(image_larger, size=7))"
   ]
  },
  {
   "cell_type": "markdown",
   "metadata": {},
   "source": [
    "\"\"\"\n",
    "real code\n",
    "\"\"\"  \n",
    "resized_X = []\n",
    "resized_y = []\n",
    "\n",
    "for i in range(X_.shape[0]):\n",
    "    kpsoi = KeypointsOnImage(y_[i], shape=X_[i].shape)\n",
    "    resized_img = ia.imresize_single_image(X_[i], (226, 226))\n",
    "    resized_kpsoi = kpsoi.on(resized_img)\n",
    "    resized_X.append(resized_img)\n",
    "    resized_y.append(resized_kpsoi)"
   ]
  },
  {
   "cell_type": "markdown",
   "metadata": {},
   "source": [
    "ia.imshow(resized_X[0])\n",
    "ia.imshow(resized_y[0].draw_on_image(resized_X[0], size=5))"
   ]
  },
  {
   "cell_type": "markdown",
   "metadata": {},
   "source": [
    "aug_X = resized_X\n",
    "aug_y = resized_y"
   ]
  },
  {
   "cell_type": "code",
   "execution_count": 45,
   "metadata": {},
   "outputs": [
    {
     "name": "stdout",
     "output_type": "stream",
     "text": [
      "(2140, 51076)\n"
     ]
    }
   ],
   "source": [
    "# transformed images to save csv file\n",
    "new_X = []\n",
    "for img in aug_X:\n",
    "    new_X.append(img[:, :, 0])\n",
    "new_X = np.array(new_X).reshape(np.array(new_X).shape[0], -1)\n",
    "print(new_X.shape)"
   ]
  },
  {
   "cell_type": "markdown",
   "metadata": {},
   "source": [
    "# transformed annotations to save csv file\n",
    "new_y = []\n",
    "for anno in aug_y:\n",
    "    new_y.append(KeypointsOnImage(anno, shape=X[0].shape).to_xy_array().reshape(-1))\n",
    "    # new_y.append(anno.to_xy_array().reshape(-1))  # anno is already KeypointsOnImage\n",
    "new_y = np.array(new_y)\n",
    "new_y.shape"
   ]
  },
  {
   "cell_type": "code",
   "execution_count": 46,
   "metadata": {},
   "outputs": [],
   "source": [
    "columns = []\n",
    "for col in df.columns:\n",
    "    columns.append(col)"
   ]
  },
  {
   "cell_type": "code",
   "execution_count": 47,
   "metadata": {},
   "outputs": [],
   "source": [
    "new_y_df = pd.DataFrame(data=new_y.astype('float64'), columns=columns[:-1])"
   ]
  },
  {
   "cell_type": "code",
   "execution_count": 48,
   "metadata": {},
   "outputs": [],
   "source": [
    "new_X_df = pd.DataFrame([], columns=['Image'], index=range(len(new_X)))\n",
    "\n",
    "for i in range(len(new_X)):\n",
    "    str_ = \"\"\n",
    "    for j in range(new_X.shape[1]):\n",
    "        str_ += \"{} \".format(new_X[i, j])\n",
    "    new_X_df.iloc[i, 0] = str_\n",
    "    # new_X_df.iloc[i, 0] = np.array2string(new_X[i], separator=' ').replace(\"[\", \"\").replace(\"]\", \"\")"
   ]
  },
  {
   "cell_type": "code",
   "execution_count": 49,
   "metadata": {},
   "outputs": [
    {
     "data": {
      "text/html": [
       "<div>\n",
       "<style scoped>\n",
       "    .dataframe tbody tr th:only-of-type {\n",
       "        vertical-align: middle;\n",
       "    }\n",
       "\n",
       "    .dataframe tbody tr th {\n",
       "        vertical-align: top;\n",
       "    }\n",
       "\n",
       "    .dataframe thead th {\n",
       "        text-align: right;\n",
       "    }\n",
       "</style>\n",
       "<table border=\"1\" class=\"dataframe\">\n",
       "  <thead>\n",
       "    <tr style=\"text-align: right;\">\n",
       "      <th></th>\n",
       "      <th>Image</th>\n",
       "    </tr>\n",
       "  </thead>\n",
       "  <tbody>\n",
       "    <tr>\n",
       "      <td>0</td>\n",
       "      <td>0 0 0 0 0 0 0 0 0 0 0 0 0 0 0 0 0 0 0 205 234 ...</td>\n",
       "    </tr>\n",
       "    <tr>\n",
       "      <td>1</td>\n",
       "      <td>0 0 0 0 0 0 0 0 0 0 0 0 0 0 0 0 0 0 0 0 0 0 0 ...</td>\n",
       "    </tr>\n",
       "    <tr>\n",
       "      <td>2</td>\n",
       "      <td>0 0 0 0 0 0 0 0 0 0 0 0 0 0 0 0 0 0 0 0 0 0 0 ...</td>\n",
       "    </tr>\n",
       "    <tr>\n",
       "      <td>3</td>\n",
       "      <td>0 0 0 0 0 0 0 0 0 0 0 0 0 0 0 0 0 0 0 0 0 0 0 ...</td>\n",
       "    </tr>\n",
       "    <tr>\n",
       "      <td>4</td>\n",
       "      <td>0 0 0 0 0 0 0 0 0 0 0 0 0 0 0 0 0 0 0 0 0 0 0 ...</td>\n",
       "    </tr>\n",
       "  </tbody>\n",
       "</table>\n",
       "</div>"
      ],
      "text/plain": [
       "                                               Image\n",
       "0  0 0 0 0 0 0 0 0 0 0 0 0 0 0 0 0 0 0 0 205 234 ...\n",
       "1  0 0 0 0 0 0 0 0 0 0 0 0 0 0 0 0 0 0 0 0 0 0 0 ...\n",
       "2  0 0 0 0 0 0 0 0 0 0 0 0 0 0 0 0 0 0 0 0 0 0 0 ...\n",
       "3  0 0 0 0 0 0 0 0 0 0 0 0 0 0 0 0 0 0 0 0 0 0 0 ...\n",
       "4  0 0 0 0 0 0 0 0 0 0 0 0 0 0 0 0 0 0 0 0 0 0 0 ..."
      ]
     },
     "execution_count": 49,
     "metadata": {},
     "output_type": "execute_result"
    }
   ],
   "source": [
    "# np.fromstring(np.array2string(new_X[0], separator=' ').replace(\"[\", \"\").replace(\"]\", \"\"), sep=' ')\n",
    "new_X_df.head()"
   ]
  },
  {
   "cell_type": "code",
   "execution_count": 50,
   "metadata": {},
   "outputs": [],
   "source": [
    "new_df = pd.concat([new_y_df, new_X_df], axis=1)\n",
    "new_df.to_csv('data/resized226_rotate_30.csv', index=False)\n",
    "# new_df.to_csv('data/resized226_org_train.csv', index=False)"
   ]
  },
  {
   "cell_type": "markdown",
   "metadata": {},
   "source": [
    "## shifting keypoints"
   ]
  },
  {
   "cell_type": "code",
   "execution_count": 59,
   "metadata": {},
   "outputs": [
    {
     "data": {
      "image/png": "[encoded data removed]",
      "text/plain": [
       "<Figure size 576x96 with 1 Axes>"
      ]
     },
     "metadata": {
      "needs_background": "light"
     },
     "output_type": "display_data"
    }
   ],
   "source": [
    "img_pad = ia.pad(img, left=10)\n",
    "kpsoi_pad = kpsoi.shift(x=10)\n",
    "ia.imshow(kpsoi_pad.draw_on_image(img_pad, size=2))"
   ]
  },
  {
   "cell_type": "code",
   "execution_count": 66,
   "metadata": {},
   "outputs": [
    {
     "name": "stdout",
     "output_type": "stream",
     "text": [
      "(15, 2)\n",
      "[[66.03356  39.002274]\n",
      " [30.227007 36.421677]\n",
      " [59.582077 39.647423]\n",
      " [73.13035  39.969997]\n",
      " [36.35657  37.3894  ]\n",
      " [23.452871 37.3894  ]\n",
      " [56.953262 29.033648]\n",
      " [80.22713  32.228138]\n",
      " [40.227608 29.002321]\n",
      " [16.356379 29.64747 ]\n",
      " [44.42057  57.066803]\n",
      " [61.19531  79.97017 ]\n",
      " [28.614496 77.38899 ]\n",
      " [43.312603 72.935455]\n",
      " [43.130707 84.48577 ]]\n",
      "[66.03356  39.002274 30.227007 36.421677 59.582077 39.647423 73.13035\n",
      " 39.969997 36.35657  37.3894   23.452871 37.3894   56.953262 29.033648\n",
      " 80.22713  32.228138 40.227608 29.002321 16.356379 29.64747  44.42057\n",
      " 57.066803 61.19531  79.97017  28.614496 77.38899  43.312603 72.935455\n",
      " 43.130707 84.48577 ]\n"
     ]
    }
   ],
   "source": [
    "arr = kpsoi.to_xy_array()\n",
    "print(arr.shape)\n",
    "print(arr)\n",
    "print(arr.reshape(-1))"
   ]
  }
 ],
 "metadata": {
  "kernelspec": {
   "display_name": "Python 3",
   "language": "python",
   "name": "python3"
  },
  "language_info": {
   "codemirror_mode": {
    "name": "ipython",
    "version": 3
   },
   "file_extension": ".py",
   "mimetype": "text/x-python",
   "name": "python",
   "nbconvert_exporter": "python",
   "pygments_lexer": "ipython3",
   "version": "3.7.3"
  }
 },
 "nbformat": 4,
 "nbformat_minor": 4
}
